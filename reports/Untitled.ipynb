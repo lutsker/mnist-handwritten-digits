{
 "cells": [
  {
   "cell_type": "code",
   "execution_count": 1,
   "id": "0262d4f3",
   "metadata": {},
   "outputs": [],
   "source": [
    "import numpy as np\n",
    "import matplotlib.pyplot as plt\n",
    "\n",
    "from data import dataset"
   ]
  },
  {
   "cell_type": "code",
   "execution_count": 2,
   "id": "1969a2c5",
   "metadata": {},
   "outputs": [],
   "source": [
    "data = dataset()\n",
    "(x, y) = data('test')"
   ]
  },
  {
   "cell_type": "code",
   "execution_count": 12,
   "id": "d4fa1a4b",
   "metadata": {},
   "outputs": [
    {
     "data": {
      "text/plain": [
       "<matplotlib.image.AxesImage at 0x208af4df430>"
      ]
     },
     "execution_count": 12,
     "metadata": {},
     "output_type": "execute_result"
    },
    {
     "data": {
      "image/png": "[encoded data removed]",
      "text/plain": [
       "<Figure size 432x288 with 1 Axes>"
      ]
     },
     "metadata": {
      "needs_background": "light"
     },
     "output_type": "display_data"
    }
   ],
   "source": [
    "plt.imshow(x[0])"
   ]
  },
  {
   "cell_type": "code",
   "execution_count": 113,
   "id": "923d8bf9",
   "metadata": {},
   "outputs": [],
   "source": [
    "from PIL import ImageOps, ImageFilter\n",
    "from PIL import Image, ImageDraw, ImageFont\n"
   ]
  },
  {
   "cell_type": "code",
   "execution_count": 130,
   "id": "c48929a9",
   "metadata": {},
   "outputs": [
    {
     "data": {
      "text/plain": [
       "<matplotlib.image.AxesImage at 0x208b67d64c0>"
      ]
     },
     "execution_count": 130,
     "metadata": {},
     "output_type": "execute_result"
    },
    {
     "data": {
      "image/png": "[encoded data removed]",
      "text/plain": [
       "<Figure size 432x288 with 1 Axes>"
      ]
     },
     "metadata": {
      "needs_background": "light"
     },
     "output_type": "display_data"
    }
   ],
   "source": [
    "class Deformer:\n",
    "    def transform(self, x, y):\n",
    "        y = y + 5*np.sin(x/6) - 5\n",
    "        return x, y\n",
    "\n",
    "    def transform_rectangle(self, x0, y0, x1, y1):\n",
    "        return (*self.transform(x0, y0),\n",
    "                *self.transform(x0, y1),\n",
    "                *self.transform(x1, y1),\n",
    "                *self.transform(x1, y0),\n",
    "                )\n",
    "    \n",
    "    def getmesh(self, img):\n",
    "        self.w, self.h = img.size\n",
    "        gridspace = 8\n",
    "        target_grid = []        \n",
    "        for x in range(0, self.w, gridspace):\n",
    "            for y in range(0, self.h, gridspace):\n",
    "                target_grid.append((x, y, x + gridspace, y + gridspace))\n",
    "        \n",
    "        source_grid = [self.transform_rectangle(*rect) for rect in target_grid]\n",
    "        return [t for t in zip(target_grid, source_grid)]\n",
    "    \n",
    "\n",
    "\n",
    "im = Image.fromarray(x[1,:,:,0])\n",
    "\n",
    "#im = ImageOps.flip(im)\n",
    "#im = ImageOps.mirror(im)\n",
    "#im = im.filter(ImageFilter.BoxBlur(5))\n",
    "\n",
    "im = ImageOps.deform(im, Deformer())\n",
    "\n",
    "plt.imshow((1 - np.asarray(im) / 255) * 255)"
   ]
  },
  {
   "cell_type": "code",
   "execution_count": 15,
   "id": "4a06e3c0",
   "metadata": {},
   "outputs": [
    {
     "data": {
      "text/plain": [
       "<matplotlib.image.AxesImage at 0x208af60e0a0>"
      ]
     },
     "execution_count": 15,
     "metadata": {},
     "output_type": "execute_result"
    },
    {
     "data": {
      "image/png": "[encoded data removed]",
      "text/plain": [
       "<Figure size 432x288 with 1 Axes>"
      ]
     },
     "metadata": {
      "needs_background": "light"
     },
     "output_type": "display_data"
    }
   ],
   "source": [
    "# augmentations: thresholding with factor 0.5, 0.75, 0.85, as well as binarization with same factors\n",
    "#  add digits from built in fonts (generate): different fonts, different font sizes, different max value\n",
    "#  add letters and symbols from systems fonts as non-digits: 339 fonts times 100 symbols = 33900 samples \n",
    "#  rotations, shifts, distortions\n",
    "#  change dynamic range (make the image more pale)\n",
    "#  invert image\n",
    "#  flip image\n",
    "#  solarize (invert pixels above treshold)\n",
    "#  blur\n",
    "\n",
    "plt.imshow((x[0] > 0.85) * x[0] )"
   ]
  },
  {
   "cell_type": "code",
   "execution_count": 99,
   "id": "279dd465",
   "metadata": {},
   "outputs": [
    {
     "data": {
      "text/plain": [
       "<matplotlib.image.AxesImage at 0x208b5027970>"
      ]
     },
     "execution_count": 99,
     "metadata": {},
     "output_type": "execute_result"
    },
    {
     "data": {
      "image/png": "[encoded data removed]",
      "text/plain": [
       "<Figure size 432x288 with 1 Axes>"
      ]
     },
     "metadata": {
      "needs_background": "light"
     },
     "output_type": "display_data"
    }
   ],
   "source": [
    "\n",
    "fonts = [\"arial.ttf\", \"times.ttf\", \"verdana.ttf\", \"corbel.ttf\", \"impact.ttf\"]\n",
    "\n",
    "def generate_digit(digit, font=\"arial.ttf\"):\n",
    "    im = Image.new(\"L\", (28,28))\n",
    "    fnt = ImageFont.truetype(font, 24)\n",
    "    dc = ImageDraw.Draw(im)\n",
    "    dc.text((24,0), str(digit), font=fnt, fill=128)\n",
    "    return np.asarray(im)\n",
    "\n",
    "\n",
    "plt.imshow(generate_digit(3, \"times.ttf\"))"
   ]
  },
  {
   "cell_type": "code",
   "execution_count": 68,
   "id": "eb448bda",
   "metadata": {},
   "outputs": [],
   "source": [
    "from matplotlib import font_manager"
   ]
  },
  {
   "cell_type": "code",
   "execution_count": 69,
   "id": "41f26633",
   "metadata": {},
   "outputs": [],
   "source": [
    "system_fonts = font_manager.findSystemFonts(fontpaths=None, fontext='ttf')"
   ]
  },
  {
   "cell_type": "code",
   "execution_count": 71,
   "id": "248a4f13",
   "metadata": {},
   "outputs": [
    {
     "name": "stdout",
     "output_type": "stream",
     "text": [
      "339\n"
     ]
    }
   ],
   "source": [
    "print(len(system_fonts))"
   ]
  },
  {
   "cell_type": "code",
   "execution_count": null,
   "id": "17cdd4ee",
   "metadata": {},
   "outputs": [],
   "source": []
  }
 ],
 "metadata": {
  "kernelspec": {
   "display_name": "Python 3 (ipykernel)",
   "language": "python",
   "name": "python3"
  },
  "language_info": {
   "codemirror_mode": {
    "name": "ipython",
    "version": 3
   },
   "file_extension": ".py",
   "mimetype": "text/x-python",
   "name": "python",
   "nbconvert_exporter": "python",
   "pygments_lexer": "ipython3",
   "version": "3.8.7"
  }
 },
 "nbformat": 4,
 "nbformat_minor": 5
}
