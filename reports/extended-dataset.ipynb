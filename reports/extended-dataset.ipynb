{
 "cells": [
  {
   "cell_type": "code",
   "execution_count": 17,
   "id": "e75dd71a",
   "metadata": {},
   "outputs": [],
   "source": [
    "import numpy as np\n",
    "import matplotlib.pyplot as plt\n",
    "\n",
    "from data import dataset"
   ]
  },
  {
   "cell_type": "code",
   "execution_count": 18,
   "id": "76b603cd",
   "metadata": {},
   "outputs": [],
   "source": [
    "data = dataset()\n",
    "(x, y) = data('train')\n",
    "(xt, yt) = data('test')"
   ]
  },
  {
   "cell_type": "code",
   "execution_count": 19,
   "id": "2ccd8506",
   "metadata": {},
   "outputs": [
    {
     "name": "stdout",
     "output_type": "stream",
     "text": [
      "(60000, 28, 28, 1) (60000, 10)\n",
      "(10000, 28, 28, 1) (10000, 10)\n"
     ]
    }
   ],
   "source": [
    "print(x.shape, y.shape)\n",
    "print(xt.shape, yt.shape)"
   ]
  },
  {
   "cell_type": "code",
   "execution_count": 20,
   "id": "6acd9fa1",
   "metadata": {},
   "outputs": [],
   "source": [
    "y_ext = np.concatenate((y, np.zeros((60000, 1))), axis=1)\n",
    "yt_ext = np.concatenate((yt, np.zeros((10000, 1))), axis=1)"
   ]
  },
  {
   "cell_type": "code",
   "execution_count": 21,
   "id": "1c8cb977",
   "metadata": {},
   "outputs": [],
   "source": [
    "# invert training examples\n",
    "#x_inv = 1 - x / np.max(x)\n",
    "\n",
    "#res = np.concatenate((x, x_inv), axis=0)\n",
    "#res_y = np.concatenate((y, y), axis=0)\n",
    "#print(res.shape, res_y.shape)"
   ]
  },
  {
   "cell_type": "code",
   "execution_count": 22,
   "id": "5c44ddb8",
   "metadata": {},
   "outputs": [],
   "source": [
    "from PIL import ImageOps, ImageFilter\n",
    "from PIL import Image, ImageDraw, ImageFont\n",
    "\n",
    "fonts = [\"arial.ttf\", \"times.ttf\", \"verdana.ttf\", \"corbel.ttf\", \"impact.ttf\"]\n",
    "symbols = [\"'\", '~', '\\\"', ';', '#', 'Ä', '*', '+', '-', '_', ':', '..', ',', '\\\\', '{', '}', 'ß', '?', '!', '$', \n",
    "          '%', '&', '/', '[', ']', '(', ')', '=', '<', '>', '|', '@', '€', 'ö', 'Ö', 'ä', 'ü', 'Ü', 'q', 'w', 'e',\n",
    "          '^', '°', 'r', 't', 'z', 'u', 'i', 'o', 'p', 'a', 's', 'd', 'f', 'g', 'h', 'j', 'k', 'l', 'y', 'x', 'c', \n",
    "          'v', 'b', 'n', 'm', 'M', 'N', 'B', 'V', 'C', 'X', 'Y', 'L', 'K', 'J', 'H', 'G', 'F', 'D', 'S', 'A', 'P',\n",
    "          'O', 'I', 'U', 'Z', 'T', 'R', 'E', 'W', 'Q']\n",
    "\n",
    "def generate_digit(symbol, font=\"arial.ttf\", font_size=24, intensity=255):\n",
    "    im = Image.new(\"L\", (28,28))\n",
    "    fnt = ImageFont.truetype(font, font_size)\n",
    "    dc = ImageDraw.Draw(im)\n",
    "    dc.text((8,0), symbol, font=fnt, fill=intensity)\n",
    "    return np.asarray(im)\n",
    "\n",
    "\n",
    "#plt.imshow(generate_digit('..', \"times.ttf\"))\n",
    "\n"
   ]
  },
  {
   "cell_type": "code",
   "execution_count": 23,
   "id": "7813f3ca",
   "metadata": {},
   "outputs": [],
   "source": [
    "from matplotlib import font_manager"
   ]
  },
  {
   "cell_type": "code",
   "execution_count": 24,
   "id": "72e65660",
   "metadata": {},
   "outputs": [],
   "source": [
    "system_fonts = font_manager.findSystemFonts(fontpaths=None, fontext='ttf')"
   ]
  },
  {
   "cell_type": "code",
   "execution_count": 25,
   "id": "885e5082",
   "metadata": {},
   "outputs": [
    {
     "name": "stdout",
     "output_type": "stream",
     "text": [
      "font: C:\\Windows\\Fonts\\consolai.ttf\n",
      "font: C:\\Windows\\Fonts\\georgiaz.ttf\n",
      "font: C:\\Windows\\Fonts\\corbel.ttf\n",
      "font: C:\\Windows\\Fonts\\CALIFR.TTF\n",
      "font: C:\\Windows\\Fonts\\GIL_____.TTF\n",
      "font: C:\\Windows\\Fonts\\AGENCYR.TTF\n",
      "font: C:\\Windows\\Fonts\\ROCC____.TTF\n",
      "font: C:\\Windows\\Fonts\\msgothic.ttc\n",
      "font: C:\\Windows\\Fonts\\micross.ttf\n",
      "font: C:\\Windows\\Fonts\\ENGR.TTF\n",
      "font: C:\\Windows\\Fonts\\couri.ttf\n",
      "font: C:\\Windows\\Fonts\\LEELAWDB.TTF\n",
      "font: C:\\Windows\\Fonts\\FRSCRIPT.TTF\n",
      "font: C:\\Windows\\Fonts\\segoescb.ttf\n",
      "font: C:\\Windows\\Fonts\\palab.ttf\n",
      "font: C:\\Windows\\Fonts\\sylfaen.ttf\n",
      "font: C:\\Windows\\Fonts\\ERASBD.TTF\n",
      "font: C:\\Windows\\Fonts\\trebucbd.ttf\n",
      "font: C:\\Windows\\Fonts\\LTYPE.TTF\n",
      "font: C:\\Windows\\Fonts\\ntailu.ttf\n",
      "font: C:\\Windows\\Fonts\\YuGothR.ttc\n",
      "font: C:\\Windows\\Fonts\\constanz.ttf\n",
      "font: C:\\Windows\\Fonts\\CALIFB.TTF\n",
      "font: C:\\Windows\\Fonts\\calibriz.ttf\n",
      "font: C:\\Windows\\Fonts\\calibril.ttf\n",
      "font: C:\\Windows\\Fonts\\GOUDOSB.TTF\n",
      "font: C:\\Windows\\Fonts\\ONYX.TTF\n",
      "font: C:\\Windows\\Fonts\\Nirmala.ttf\n",
      "font: C:\\Windows\\Fonts\\LSANSI.TTF\n",
      "font: C:\\Windows\\Fonts\\PAPYRUS.TTF\n",
      "font: C:\\Windows\\Fonts\\ITCEDSCR.TTF\n",
      "font: C:\\Windows\\Fonts\\COPRGTB.TTF\n",
      "font: C:\\Windows\\Fonts\\segoeuisl.ttf\n",
      "font: C:\\Windows\\Fonts\\SCRIPTBL.TTF\n",
      "font: C:\\Windows\\Fonts\\BOOKOSBI.TTF\n",
      "font: C:\\Windows\\Fonts\\SCHLBKI.TTF\n",
      "font: C:\\Windows\\Fonts\\LBRITE.TTF\n",
      "font: C:\\Windows\\Fonts\\cour.ttf\n",
      "font: C:\\Windows\\Fonts\\ROCK.TTF\n",
      "font: C:\\Windows\\Fonts\\FRADM.TTF\n",
      "font: C:\\Windows\\Fonts\\BOOKOSB.TTF\n",
      "font: C:\\Windows\\Fonts\\MOD20.TTF\n",
      "font: C:\\Windows\\Fonts\\GILI____.TTF\n",
      "font: C:\\Windows\\Fonts\\DUBAI-MEDIUM.TTF\n",
      "font: C:\\Windows\\Fonts\\himalaya.ttf\n",
      "font: C:\\Windows\\Fonts\\GOUDOSI.TTF\n",
      "font: C:\\Windows\\Fonts\\CHILLER.TTF\n",
      "font: C:\\Windows\\Fonts\\ntailub.ttf\n",
      "font: C:\\Windows\\Fonts\\COPRGTL.TTF\n",
      "font: C:\\Windows\\Fonts\\GOTHICB.TTF\n",
      "font: C:\\Windows\\Fonts\\timesi.ttf\n",
      "font: C:\\Windows\\Fonts\\BOD_BLAI.TTF\n",
      "font: C:\\Windows\\Fonts\\BOD_CR.TTF\n",
      "font: C:\\Windows\\Fonts\\Candarai.ttf\n",
      "font: C:\\Windows\\Fonts\\LFAXI.TTF\n",
      "font: C:\\Windows\\Fonts\\ELEPHNTI.TTF\n",
      "font: C:\\Windows\\Fonts\\BRLNSB.TTF\n",
      "font: C:\\Windows\\Fonts\\WINGDNG2.TTF\n",
      "font: C:\\Windows\\Fonts\\HTOWERTI.TTF\n",
      "font: C:\\Windows\\Fonts\\VIVALDII.TTF\n",
      "font: C:\\Windows\\Fonts\\BOD_I.TTF\n",
      "font: C:\\Windows\\Fonts\\symbol.ttf\n",
      "font: C:\\Windows\\Fonts\\trebucit.ttf\n",
      "font: C:\\Windows\\Fonts\\OUTLOOK.TTF\n",
      "font: C:\\Windows\\Fonts\\MSUIGHUR.TTF\n",
      "font: C:\\Windows\\Fonts\\palabi.ttf\n",
      "(66072, 28, 28, 1)\n"
     ]
    }
   ],
   "source": [
    "#xx = generate_digit(symbols[0], system_fonts[0]).reshape((1,28,28,1))\n",
    "#print(xx.shape)\n",
    "\n",
    "res = x\n",
    "for font in system_fonts[0:66]:\n",
    "    print('font: ' + font)\n",
    "    for symbol in symbols:\n",
    "        spl = generate_digit(symbol, font).reshape((1,28,28,1))\n",
    "        res = np.concatenate((res, spl), axis=0)\n",
    "        #res = np.concatenate((res, 1 - spl / np.max(spl)), axis=0)\n",
    "        \n",
    "    \n",
    "print(res.shape)"
   ]
  },
  {
   "cell_type": "code",
   "execution_count": 32,
   "id": "ef9b0f71",
   "metadata": {},
   "outputs": [
    {
     "data": {
      "text/plain": [
       "<matplotlib.image.AxesImage at 0x17500ac48b0>"
      ]
     },
     "execution_count": 32,
     "metadata": {},
     "output_type": "execute_result"
    },
    {
     "data": {
      "image/png": "[encoded data removed]",
      "text/plain": [
       "<Figure size 432x288 with 1 Axes>"
      ]
     },
     "metadata": {
      "needs_background": "light"
     },
     "output_type": "display_data"
    }
   ],
   "source": [
    "plt.imshow(res[60251,:,:,0])"
   ]
  },
  {
   "cell_type": "code",
   "execution_count": 34,
   "id": "b586a152",
   "metadata": {},
   "outputs": [
    {
     "name": "stdout",
     "output_type": "stream",
     "text": [
      "(66072, 11)\n"
     ]
    }
   ],
   "source": [
    "lbls = np.concatenate((np.zeros((6072, 10)), np.ones((6072, 1))), axis=1)\n",
    "\n",
    "\n",
    "y_ext = np.concatenate((y_ext, lbls), axis=0)\n",
    "print(y_ext.shape)"
   ]
  },
  {
   "cell_type": "code",
   "execution_count": 35,
   "id": "b1481986",
   "metadata": {},
   "outputs": [],
   "source": [
    "#with open('ds.npy', 'wb') as f:\n",
    "#    np.save(f, res)\n",
    "#    np.save(f, y_ext)"
   ]
  },
  {
   "cell_type": "code",
   "execution_count": 36,
   "id": "5213806f",
   "metadata": {},
   "outputs": [],
   "source": [
    "with open('ds.npy', 'rb') as f:\n",
    "    ds_x = np.load(f)\n",
    "    ds_y = np.load(f)"
   ]
  },
  {
   "cell_type": "code",
   "execution_count": 42,
   "id": "47b52e43",
   "metadata": {},
   "outputs": [],
   "source": [
    "index = np.arange(66072)\n",
    "np.random.shuffle(index)"
   ]
  },
  {
   "cell_type": "code",
   "execution_count": 43,
   "id": "48b68f8e",
   "metadata": {},
   "outputs": [],
   "source": [
    "xf = ds_x[index]\n",
    "yf = ds_y[index]"
   ]
  },
  {
   "cell_type": "code",
   "execution_count": 44,
   "id": "59e99e01",
   "metadata": {},
   "outputs": [],
   "source": [
    "#with open('ds-ext.npy', 'wb') as f:\n",
    "#    np.save(f, xf)\n",
    "#    np.save(f, yf)"
   ]
  },
  {
   "cell_type": "code",
   "execution_count": null,
   "id": "26ded49b",
   "metadata": {},
   "outputs": [],
   "source": []
  }
 ],
 "metadata": {
  "kernelspec": {
   "display_name": "Python 3 (ipykernel)",
   "language": "python",
   "name": "python3"
  },
  "language_info": {
   "codemirror_mode": {
    "name": "ipython",
    "version": 3
   },
   "file_extension": ".py",
   "mimetype": "text/x-python",
   "name": "python",
   "nbconvert_exporter": "python",
   "pygments_lexer": "ipython3",
   "version": "3.8.7"
  }
 },
 "nbformat": 4,
 "nbformat_minor": 5
}
